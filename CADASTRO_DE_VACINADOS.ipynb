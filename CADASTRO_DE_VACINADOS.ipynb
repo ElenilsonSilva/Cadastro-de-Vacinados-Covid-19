{
  "nbformat": 4,
  "nbformat_minor": 0,
  "metadata": {
    "colab": {
      "name": "CADASTRO DE VACINADOS",
      "provenance": [],
      "collapsed_sections": [],
      "include_colab_link": true
    },
    "kernelspec": {
      "name": "python3",
      "display_name": "Python 3"
    }
  },
  "cells": [
    {
      "cell_type": "markdown",
      "metadata": {
        "id": "view-in-github",
        "colab_type": "text"
      },
      "source": [
        "<a href=\"https://colab.research.google.com/github/ElenilsonSilva/Cadastro-de-Vacinados-Covid-19/blob/main/CADASTRO_DE_VACINADOS.ipynb\" target=\"_parent\"><img src=\"https://colab.research.google.com/assets/colab-badge.svg\" alt=\"Open In Colab\"/></a>"
      ]
    },
    {
      "cell_type": "code",
      "metadata": {
        "id": "kSu0s7FxWCDO",
        "colab": {
          "base_uri": "https://localhost:8080/"
        },
        "outputId": "3ab48442-a0de-4c5d-d780-e7b1393baca4"
      },
      "source": [
        "import numpy as np\n",
        "from IPython.display import clear_output\n",
        "\n",
        "\n",
        "\n",
        "#função para criar a matriz\n",
        "'''def imprime_matriz(matriz):\n",
        "    linha = len(matriz)\n",
        "    coluna = len(matriz[0])\n",
        "    for i in range(linha):\n",
        "        for j in range(coluna):\n",
        "            if (j == (coluna - 1)):\n",
        "                print(matriz[i][j])\n",
        "            else:\n",
        "                print(matriz[i][j], end = '     ')'''\n",
        "\n",
        "def comandos():\n",
        "  print(\"---------------------------------------------------\")\n",
        "  print(\"|              CADASTRO DE VACINADOS               |\")\n",
        "  print(\"---------------------------------------------------\")\n",
        "  print(\"|             1 - Cadastrar Novo                   |\")\n",
        "  print(\"---------------------------------------------------\")\n",
        "  print(\"|             2 - Consultar Cadastrados            |\")\n",
        "  print(\"---------------------------------------------------\")\n",
        "  print(\"|             3 - Encerrar                         |\")\n",
        "  print(\"---------------------------------------------------\\n\\n\")\n",
        " \n",
        "\n",
        "lista = []\n",
        "while True:\n",
        "  comandos()\n",
        "  escolha = input(\"Número da Opção: \")\n",
        "  clear_output() \n",
        " \n",
        "  \n",
        "  if escolha in ('1','2','3'):\n",
        "    #opção 1\n",
        "    if escolha == '1':\n",
        "\n",
        "      nome = input(\"Digite o nome completo da paciente: \\n\")\n",
        "      cpf = input(\"Digite o CPF do paciente: \\n\")\n",
        "      numero = input(\"Numero do Cartão do SUS do paciente: \\n\")\n",
        "      nascimento = input(\"Digite a data de nascimento do paciente (dd/mm/aaaa): \\n\")\n",
        "      clear_output()\n",
        "      #idade da pessoa por ano\n",
        "      if len(nascimento) == 10:\n",
        "        i = nascimento.split('/') #separar em lista por barra\n",
        "        i_c = int(i[2]) #pego o ano e transforma em inteiro\n",
        "        cal = 2021 - i_c #ano atual menos o de nascimento\n",
        "        idade = str(cal) + \" anos\"\n",
        "        if cal >= 60:\n",
        "          p = [nome, #lista com o nome, idade e numero do SUS\n",
        "              idade,\n",
        "              cpf,\n",
        "              numero]\n",
        "          lista.append(p) # acrescenta os dados cadastrados na lista\n",
        "          print(\"\\n\\n\")\n",
        "          print(\"           CADASTRO REALIZADO COM SUCESSO.                  \\n\")\n",
        "          continue\n",
        "        else:\n",
        "          print(\"\\n\\n\")\n",
        "          print(\"                      ATENÇÃO!!!\\n                                           \")\n",
        "          print(\"O paciente ainda não tem a idade mínima para ser vacinado, que é 60 anos.\\n\\n\")\n",
        "          continue\n",
        "      else:\n",
        "        print(\"\\n\\n\")\n",
        "        print(\"                      ATENÇÃO!!!\\n                                           \")\n",
        "        print(\"               FORMATO DA DATA ERRADO.\\n\\n\")\n",
        "        continue\n",
        "\n",
        "    #opção 2\n",
        "    elif escolha == '2':\n",
        "      print()\n",
        "      print(\"----------------------------------------------------------------\")\n",
        "      print('|                     LISTA DE VACINADOS                       |')\n",
        "      print(\"----------------------------------------------------------------\")\n",
        "      if len(lista) == 0:\n",
        "        print(\"          NENHUM PACIENTE CADASTRADO!!!       \\n\")\n",
        "        continue\n",
        "      else:\n",
        "        print()\n",
        "        print(np.matrix(lista))\n",
        "        #print(imprime_matriz(lista))\n",
        "        print(\"\\n\\n\")\n",
        "        continue\n",
        "      \n",
        "    #opção 3\n",
        "    elif escolha == '3':\n",
        "      print()\n",
        "      print(\"            VOCÊ ENCERROU O PROGRAMA.                \\n\\n\")\n",
        "      break\n",
        "  else:\n",
        "    print(\"\\n\\n\")\n",
        "    print(\"                      ATENÇÃO!!!\\n                                           \")\n",
        "    print(\"                 OPÇÃO INVÁLIDA.                   \") #outras opções\n",
        "    continue\n",
        "\n",
        "    \n"
      ],
      "execution_count": 6,
      "outputs": [
        {
          "output_type": "stream",
          "text": [
            "\n",
            "            VOCÊ ENCERROU O PROGRAMA.                \n",
            "\n",
            "\n"
          ],
          "name": "stdout"
        }
      ]
    }
  ]
}