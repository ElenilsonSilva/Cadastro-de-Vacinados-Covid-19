{
  "nbformat": 4,
  "nbformat_minor": 0,
  "metadata": {
    "colab": {
      "name": "CADASTRO DE VACINADOS",
      "provenance": [],
      "collapsed_sections": [],
      "include_colab_link": true
    },
    "kernelspec": {
      "name": "python3",
      "display_name": "Python 3"
    }
  },
  "cells": [
    {
      "cell_type": "markdown",
      "metadata": {
        "id": "view-in-github",
        "colab_type": "text"
      },
      "source": [
        "<a href=\"https://colab.research.google.com/github/ElenilsonSilva/Cadastro-de-Vacinados-Covid-19/blob/main/CADASTRO_DE_VACINADOS.ipynb\" target=\"_parent\"><img src=\"https://colab.research.google.com/assets/colab-badge.svg\" alt=\"Open In Colab\"/></a>"
      ]
    },
    {
      "cell_type": "code",
      "metadata": {
        "id": "kSu0s7FxWCDO"
      },
      "source": [
        "\r\n",
        "#função para criar a matriz\r\n",
        "def imprime_matriz(matriz):\r\n",
        "    linha = len(matriz);\r\n",
        "    coluna = len(matriz[0])\r\n",
        "    for i in range(linha):\r\n",
        "        for j in range(coluna):\r\n",
        "            if (j == (coluna - 1)):\r\n",
        "                print(matriz[i][j])\r\n",
        "            else:\r\n",
        "                print(matriz[i][j], end = '   ')\r\n",
        "\r\n",
        "#Começo\r\n",
        "print(\"========== CADASTRO DE VACINADOS ==========\")\r\n",
        "print(\"          ESCOLHA UMA DAS OPÇÕES\")\r\n",
        "print(\"       1 - Cadastrar Novo\")\r\n",
        "print(\"       2 - Consultar Cadastrados\")\r\n",
        "print(\"       3 - Encerrar\\n\")\r\n",
        "\r\n",
        "lista = []\r\n",
        "while True:\r\n",
        "  escolha = input(\"Número da Opção: \")\r\n",
        "  \r\n",
        "  if escolha in ('1','2','3'):\r\n",
        "    #opção 1\r\n",
        "    if escolha == '1':\r\n",
        "\r\n",
        "      nome = input(\"Digite o nome completo do paciente: \\n\")\r\n",
        "      cpf = input(\"Digite o CPF do paciente: \\n\")\r\n",
        "      numero = input(\"Numero do Cartão do SUS do paciente: \\n\")\r\n",
        "      nascimento = input(\"Digite a data de nascimento do paciente (dd/mm/aaaa): \\n\")\r\n",
        "\r\n",
        "      #idade da pessoa por ano\r\n",
        "      if len(nascimento) == 10:\r\n",
        "        i = nascimento.split('/') #separar em lista por barra\r\n",
        "        i_c = int(i[2]) #pego o ano e transforma em inteiro\r\n",
        "        cal = 2021 - i_c #ano atual menos o de nascimento\r\n",
        "        idade = str(cal) + \" anos\"\r\n",
        "        if cal >= 60:\r\n",
        "          p = [nome, #lista com o nome, idade e numero do SUS\r\n",
        "           idade,\r\n",
        "           cpf,\r\n",
        "           numero]\r\n",
        "          lista.append(p) # acrescenta os dados cadastrados na lista\r\n",
        "          print(\"Cadastro realizado com sucesso. \\n\")\r\n",
        "          continue\r\n",
        "        else:\r\n",
        "          print(\"O paciente ainda não tem a idade mínima para ser vacinado, que é 60 anos.\\n\")\r\n",
        "          break\r\n",
        "      else:\r\n",
        "        print(\"Formato errado da Data\")\r\n",
        "        break\r\n",
        "\r\n",
        "    #opção 2\r\n",
        "    elif escolha == '2':\r\n",
        "      print('========== LISTA DE VACINADOS ==========')\r\n",
        "      if len(lista) == 0:\r\n",
        "        print(\"Nenhum Paciente Cadastrado!!!\\n\")\r\n",
        "      else:\r\n",
        "        print(imprime_matriz(lista))\r\n",
        "      \r\n",
        "    #opção 3\r\n",
        "    elif escolha == '3':\r\n",
        "      print(\"Você encerrou o programa.\")\r\n",
        "      break\r\n",
        "  else:\r\n",
        "    print(\"Opção inválida.\") #outras opções\r\n",
        "    continue\r\n",
        "\r\n",
        "    \r\n"
      ],
      "execution_count": null,
      "outputs": []
    }
  ]
}